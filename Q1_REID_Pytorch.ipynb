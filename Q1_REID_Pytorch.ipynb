{
 "cells": [
  {
   "cell_type": "code",
   "execution_count": null,
   "metadata": {
    "collapsed": true
   },
   "outputs": [],
   "source": [
    "import numpy as np\n",
    "import torch\n",
    "import torch.nn as nn\n",
    "import torch.optim as optim\n",
    "from torch.autograd import Variable\n",
    "import torch.utils.data as data_utils\n",
    "import torchvision\n",
    "import torchvision.transforms\n",
    "\n",
    "import matplotlib\n",
    "import matplotlib.pyplot as plt\n",
    "from matplotlib.font_manager import FontProperties\n",
    "\n",
    "import random\n",
    "import pickle\n",
    "import gzip\n",
    "\n",
    "import time\n",
    "import datetime\n",
    "\n",
    "from sklearn.utils.extmath import cartesian"
   ]
  },
  {
   "cell_type": "markdown",
   "metadata": {},
   "source": [
    "## Load the data"
   ]
  },
  {
   "cell_type": "code",
   "execution_count": 2,
   "metadata": {
    "collapsed": true
   },
   "outputs": [],
   "source": [
    "import pickle\n",
    "\n",
    "with open('mnist.pkl', 'rb') as f:\n",
    "    u = pickle._Unpickler(f)\n",
    "    u.encoding = 'latin1'\n",
    "    train, valid, test = u.load()\n",
    "\n",
    "train_x, train_y = train\n",
    "valid_x, valid_y = valid\n",
    "test_x, test_y = test\n",
    "\n",
    "train_x = train_x.reshape(50000,28,28)\n",
    "valid_x = valid_x.reshape(10000,28,28)\n",
    "test_x = test_x.reshape(10000,28,28)\n",
    "\n",
    "train_data = torch.FloatTensor(train_x)\n",
    "train_data_ = Variable(train_data.view(-1,784))\n",
    "train_labels = torch.FloatTensor(train_y).long()\n",
    "train_labels_ = Variable(train_labels.view(-1))\n",
    "\n",
    "valid_data = torch.FloatTensor(valid_x)\n",
    "valid_data_ = Variable(valid_data.view(-1,784))\n",
    "valid_labels = torch.FloatTensor(valid_y).long()\n",
    "valid_labels_ = Variable(valid_labels.view(-1))\n",
    "\n",
    "test_data = torch.FloatTensor(test_x)\n",
    "test_data_ = Variable(valid_data.view(-1,784))\n",
    "test_labels = torch.FloatTensor(test_y).long()\n",
    "test_labels_ = Variable(valid_labels.view(-1))\n"
   ]
  },
  {
   "cell_type": "markdown",
   "metadata": {
    "collapsed": true
   },
   "source": [
    "# The model"
   ]
  },
  {
   "cell_type": "code",
   "execution_count": 3,
   "metadata": {
    "collapsed": true
   },
   "outputs": [],
   "source": [
    "def flatten(x):\n",
    "    return x.view(x.size()[0], -1)\n",
    "    \n",
    "def adjust_lr(optimizer,lrs, epoch, total_epochs):\n",
    "    lr = lrs * (0.36 ** (epoch / float(total_epochs)))\n",
    "    for param_group in optimizer.param_groups:\n",
    "        param_group['lr'] = lr\n",
    "    return lr\n",
    "\n",
    "def prediction(data_batch,model):\n",
    "    correct = 0\n",
    "    total = 0\n",
    "    for images, labels in data_batch:\n",
    "        images = Variable(images.view(-1, 28*28))\n",
    "        outputs = model(images)\n",
    "        _, predicted = torch.max(outputs.data, 1)\n",
    "        total += labels.size(0)\n",
    "        correct += (predicted == labels).sum()\n",
    "    return 100* correct / total\n",
    "\n",
    "def batch_loss(data_batch,model,criterion): \n",
    "    loss = 0\n",
    "    total = 0\n",
    "    for batch_idx, (images,labels) in enumerate(data_batch):\n",
    "#     for images, labels in data_batch:\n",
    "        images = Variable(images.view(-1, 28*28))\n",
    "        labels = Variable(labels)  \n",
    "        outputs = model(images)\n",
    "        loss += criterion(outputs, labels)\n",
    "        total += labels.size(0)\n",
    "        \n",
    "    return loss.data[0]/total"
   ]
  },
  {
   "cell_type": "code",
   "execution_count": 4,
   "metadata": {
    "collapsed": true
   },
   "outputs": [],
   "source": [
    "def linear_ini(LL,initialization):\n",
    "    '''\n",
    "    inputs : linear layer (LL) and the initialization\n",
    "    output : linear layer with the chosen initialization\n",
    "    '''\n",
    "    if initialization == 'zero':\n",
    "        LL.weight.data = nn.init.constant(LL.weight.data, 0)\n",
    "        LL.bias.data = nn.init.constant(LL.bias.data, 0)\n",
    "    \n",
    "    if initialization == 'normal':\n",
    "        LL.weight.data = nn.init.normal(LL.weight.data, 0,1)\n",
    "        LL.bias.data = nn.init.constant(LL.bias.data, 0)\n",
    "\n",
    "    if initialization == 'glorot':\n",
    "        LL.weight.data = nn.init.xavier_uniform(LL.weight.data, gain=1)\n",
    "        # that is important, see paper. \n",
    "        LL.bias.data = nn.init.constant(LL.bias.data, 0)\n",
    "    if initialization == 'default': \n",
    "        pass\n",
    "    return LL\n",
    "\n",
    "\n",
    "class MLPLinear(nn.Module):\n",
    "\tdef __init__(self, dimensions, cuda):\n",
    "\t\tsuper(MLPLinear, self).__init__()\n",
    "\t\tself.h0 = int(dimensions[0])\n",
    "\t\tself.h1 = int(dimensions[1])\n",
    "\t\tself.h2 = int(dimensions[2])       \n",
    "\t\tself.h3 = int(dimensions[3])\n",
    "\n",
    "\t\tself.fc1 = torch.nn.Linear(self.h0,self.h1)\n",
    "\t\tself.fc2 = torch.nn.Linear(self.h1,self.h2)        \n",
    "\t\tself.fc3 = torch.nn.Linear(self.h2,self.h3)                \n",
    "\t\tself.relu = nn.ReLU()\n",
    "\t\tself.criterion = nn.CrossEntropyLoss()\n",
    "\t\tself.cuda = cuda\n",
    "\n",
    "\t\tif cuda: \n",
    "\t\t\tself.fc1.cuda()\n",
    "\t\t\tself.fc2.cuda()\n",
    "\t\t\tself.fc3.cuda()            \n",
    "\t\t\tself.relu.cuda()\n",
    "\t\t\tself.criterion.cuda()\n",
    "\n",
    "\tdef initialization(self,method):\n",
    "\t\tself.fc1 = linear_ini(self.fc1,method)\n",
    "\t\tself.fc2 = linear_ini(self.fc2,method)\n",
    "\t\tself.fc3 = linear_ini(self.fc3,method)        \n",
    "\n",
    "\tdef input(self,x,y):\n",
    "\t\tx = (x.view(-1,784))\n",
    "\t\ty = (y)  \n",
    "\t\tif self.cuda : \n",
    "\t\t\tx = Variable(x.cuda())\n",
    "\t\t\ty = Variable(y.cuda())\n",
    "\t\telse: \n",
    "\t\t\tx = Variable(x)\n",
    "\t\t\ty = Variable(y)\n",
    "\t\treturn x,y\n",
    "        \n",
    "    \n",
    "\tdef forward(self, x):\n",
    "\t\tout = self.fc1(x)\n",
    "\t\tout = self.relu(out)\n",
    "\t\tout = self.fc2(out)\n",
    "\t\tout = self.relu(out)        \n",
    "\t\tout = self.fc3(out)        \n",
    "\t\treturn  out\n",
    "    \n"
   ]
  },
  {
   "cell_type": "code",
   "execution_count": null,
   "metadata": {},
   "outputs": [],
   "source": []
  },
  {
   "cell_type": "code",
   "execution_count": null,
   "metadata": {
    "collapsed": true
   },
   "outputs": [],
   "source": []
  },
  {
   "cell_type": "markdown",
   "metadata": {
    "collapsed": true
   },
   "source": [
    "# Initialization"
   ]
  },
  {
   "cell_type": "code",
   "execution_count": 6,
   "metadata": {},
   "outputs": [
    {
     "name": "stdout",
     "output_type": "stream",
     "text": [
      "Number of parameters = 0.54581M\n",
      "Number of parameters = 0.54581M\n"
     ]
    }
   ],
   "source": [
    "# important information \n",
    "cuda = False\n",
    "batch_size = 100\n",
    "num_epochs = 10\n",
    "lr0 = 0.1\n",
    "\n",
    "h0 = 28*28    #784\n",
    "h1 = b1 = 500\n",
    "h2 = b2 = 300\n",
    "h3 = b3 = 10\n",
    "initialization_method = ['default','zero','normal','glorot']\n",
    "\n",
    "\n",
    "print('Number of parameters = '+str((h0*h1 + h1*h2 + h2*h3 + b1 + b2 + b3)/1E6)+'M')\n",
    "model = MLPLinear([h0,h1,h2,h3],cuda) \n",
    "xx,yy = model.input(train_data,train_labels)\n",
    "\n",
    "model_parameters = filter(lambda p: p.requires_grad, model.parameters())\n",
    "params = sum([np.prod(p.size()) for p in model_parameters])\n",
    "\n",
    "print('Number of parameters = '+str(params/1e6)+'M')"
   ]
  },
  {
   "cell_type": "code",
   "execution_count": null,
   "metadata": {
    "collapsed": true
   },
   "outputs": [],
   "source": []
  },
  {
   "cell_type": "code",
   "execution_count": null,
   "metadata": {
    "collapsed": true
   },
   "outputs": [],
   "source": []
  },
  {
   "cell_type": "code",
   "execution_count": 134,
   "metadata": {},
   "outputs": [
    {
     "name": "stdout",
     "output_type": "stream",
     "text": [
      "     \n",
      "     \n",
      "Initialization method : default\n",
      "________________________________\n",
      "Epoch #0, Train loss = 1.63850140572, Valid loss = 1.62412583828\n",
      "Epoch #4, Train loss = 0.366875976324, Valid loss = 0.336970359087\n",
      "Epoch #8, Train loss = 0.295644849539, Valid loss = 0.275731414557\n",
      "Train accuracy = 91.908%\n",
      "Time : 37.7 sec\n",
      "     \n",
      "     \n",
      "Initialization method : zero\n",
      "________________________________\n",
      "Epoch #0, Train loss = 2.30146503448, Valid loss = 2.30203080177\n",
      "Epoch #4, Train loss = 2.30095291138, Valid loss = 2.30195355415\n",
      "Epoch #8, Train loss = 2.30118250847, Valid loss = 2.30195093155\n",
      "Train accuracy = 11.356%\n",
      "Time : 72.2 sec\n",
      "     \n",
      "     \n",
      "Initialization method : normal\n",
      "________________________________\n",
      "Epoch #0, Train loss = 16.452495575, Valid loss = 19.1043224335\n",
      "Epoch #4, Train loss = 2.95227026939, Valid loss = 8.07720279694\n",
      "Epoch #8, Train loss = 1.14590752125, Valid loss = 6.66162967682\n",
      "Train accuracy = 97.466%\n",
      "Time : 112.4 sec\n",
      "     \n",
      "     \n",
      "Initialization method : glorot\n",
      "________________________________\n",
      "Epoch #0, Train loss = 0.541905999184, Valid loss = 0.49586185813\n",
      "Epoch #4, Train loss = 0.27617764473, Valid loss = 0.257075935602\n",
      "Epoch #8, Train loss = 0.219637349248, Valid loss = 0.209171116352\n",
      "Train accuracy = 94.126%\n",
      "Time : 147.5 sec\n",
      "done!\n"
     ]
    }
   ],
   "source": [
    "cuda = False\n",
    "initialization_method = ['default','zero','normal','glorot']\n",
    "\n",
    "n = len(initialization_method)\n",
    "m = num_epochs\n",
    "\n",
    "loss_train = np.empty([n,m]) \n",
    "loss_valid = np.empty([n,m]) \n",
    "\n",
    "acc_train = np.empty([n,m]) \n",
    "acc_valid = np.empty([n,m]) \n",
    "\n",
    "train_batch = torch.utils.data.DataLoader(data_utils.TensorDataset(train_data,train_labels), batch_size=batch_size, shuffle=True)\n",
    "valid_batch = torch.utils.data.DataLoader(data_utils.TensorDataset(valid_data,valid_labels), batch_size=batch_size, shuffle=False)\n",
    "test_batch = torch.utils.data.DataLoader(data_utils.TensorDataset(test_data,test_labels), batch_size=batch_size, shuffle=False)\n",
    "\n",
    "t0 = time.time()        \n",
    "for i, method in enumerate(initialization_method):\n",
    "    model = MLPLinear([h0,h1,h2,h3],cuda) \n",
    "    model.initialization(method)\n",
    "    optimizer = optim.SGD(model.parameters(), lr=0.01)\n",
    "    \n",
    "    print('     ')\n",
    "    print('     ')    \n",
    "    print('Initialization method : '+method)\n",
    "    print('________________________________')    \n",
    "    for j in range(num_epochs):\n",
    "        model_loss = 0\n",
    "        for batch_idx, (x,y) in enumerate(train_batch):\n",
    "            xt,yt = model.input(x,y)\n",
    "            pred_batch = model.forward(xt)\n",
    "            \n",
    "            optimizer.zero_grad()\n",
    "            loss_batch = model.criterion(pred_batch, yt)\n",
    "            loss_batch.backward()\n",
    "            optimizer.step()\n",
    "\n",
    "        xt_,yt_ = model.input(train_data,train_labels)\n",
    "        xv_,yv_ = model.input(valid_data,valid_labels)\n",
    "        pred_train_all = model.forward(xt_)\n",
    "        pred_valid_all = model.forward(xv_)  \n",
    "        \n",
    "        loss_train[i,j] = model.criterion(pred_train_all,yt_).data[0]\n",
    "        loss_valid[i,j] = model.criterion(pred_valid_all,yv_).data[0]\n",
    "\n",
    "        acc_train[i,j]  = prediction(train_batch,model)\n",
    "        acc_valid[i,j]  = prediction(valid_batch,model)\n",
    "        \n",
    "        if j%4==0: print('Epoch #'+str(j)+', Train loss = '+str(loss_train[i,j])+', Valid loss = '+str(loss_valid[i,j]))\n",
    "        \n",
    "    print('Train accuracy = '+str(prediction(train_batch,model))+'%')\n",
    "    ts = time.time()        \n",
    "    print('Time : %.1f sec'%(ts-t0))\n",
    "print('done!')"
   ]
  },
  {
   "cell_type": "code",
   "execution_count": 3,
   "metadata": {},
   "outputs": [
    {
     "ename": "NameError",
     "evalue": "name 'loss_train' is not defined",
     "output_type": "error",
     "traceback": [
      "\u001b[0;31m---------------------------------------------------------------------------\u001b[0m",
      "\u001b[0;31mNameError\u001b[0m                                 Traceback (most recent call last)",
      "\u001b[0;32m<ipython-input-3-9cf4d2ecb079>\u001b[0m in \u001b[0;36m<module>\u001b[0;34m()\u001b[0m\n\u001b[1;32m      1\u001b[0m \u001b[0mfilename\u001b[0m \u001b[0;34m=\u001b[0m \u001b[0;34m'SaveData/Q1/Init_methods_tests_3'\u001b[0m\u001b[0;34m\u001b[0m\u001b[0m\n\u001b[1;32m      2\u001b[0m \u001b[0;32mwith\u001b[0m \u001b[0mopen\u001b[0m\u001b[0;34m(\u001b[0m\u001b[0mfilename\u001b[0m\u001b[0;34m,\u001b[0m \u001b[0;34m'wb'\u001b[0m\u001b[0;34m)\u001b[0m \u001b[0;32mas\u001b[0m \u001b[0mf\u001b[0m\u001b[0;34m:\u001b[0m\u001b[0;34m\u001b[0m\u001b[0m\n\u001b[0;32m----> 3\u001b[0;31m     \u001b[0mpickle\u001b[0m\u001b[0;34m.\u001b[0m\u001b[0mdump\u001b[0m\u001b[0;34m(\u001b[0m\u001b[0;34m[\u001b[0m\u001b[0mloss_train\u001b[0m\u001b[0;34m,\u001b[0m \u001b[0mloss_valid\u001b[0m\u001b[0;34m,\u001b[0m \u001b[0macc_train\u001b[0m\u001b[0;34m,\u001b[0m \u001b[0macc_valid\u001b[0m\u001b[0;34m,\u001b[0m \u001b[0mlr0\u001b[0m\u001b[0;34m,\u001b[0m \u001b[0mh1\u001b[0m\u001b[0;34m,\u001b[0m \u001b[0mh2\u001b[0m\u001b[0;34m,\u001b[0m \u001b[0mbatch_size\u001b[0m\u001b[0;34m]\u001b[0m\u001b[0;34m,\u001b[0m \u001b[0mf\u001b[0m\u001b[0;34m)\u001b[0m\u001b[0;34m\u001b[0m\u001b[0m\n\u001b[0m\u001b[1;32m      4\u001b[0m \u001b[0;34m\u001b[0m\u001b[0m\n",
      "\u001b[0;31mNameError\u001b[0m: name 'loss_train' is not defined"
     ]
    }
   ],
   "source": [
    "# filename = 'SaveData/Q1/Init_methods_tests_3'\n",
    "# with open(filename, 'wb') as f: \n",
    "#     pickle.dump([loss_train, loss_valid, acc_train, acc_valid, lr0, h1, h2, batch_size], f)\n",
    "    "
   ]
  },
  {
   "cell_type": "code",
   "execution_count": null,
   "metadata": {
    "collapsed": true
   },
   "outputs": [],
   "source": []
  },
  {
   "cell_type": "code",
   "execution_count": 7,
   "metadata": {},
   "outputs": [
    {
     "data": {
      "image/png": "[encoded data removed]",
      "text/plain": [
       "<matplotlib.figure.Figure at 0x10f9707b8>"
      ]
     },
     "metadata": {},
     "output_type": "display_data"
    }
   ],
   "source": [
    "with open('SaveData/Q1/Init_methods_tests_2', 'rb') as f:\n",
    "    loss_train, loss_valid, acc_train, acc_valid, lr, h1, h2, batch_size  = pickle.load(f)\n",
    "\n",
    "# print('lr_0 = '+str(lr))\n",
    "fig, (ax1,ax2,ax3,ax4) = plt.subplots(1,4,figsize=(12,5))\n",
    "ax = [ax1,ax2,ax3,ax4]\n",
    "for i,(ax_,initialization_method_) in enumerate(zip(ax,initialization_method)): \n",
    "    \n",
    "    ax_.plot(loss_valid[i,:],'o--',label=initialization_method[0],color='r')\n",
    "    ax_.plot(loss_train[i,:],'o-',label=initialization_method[0],color='k')\n",
    "\n",
    "    ax_.set_xlabel('epoch',fontsize=14)\n",
    "    legend = ax_.legend(['Valid','Train'],loc='upper right',fontsize=14)\n",
    "    ax_.set_title('Initialization :'+initialization_method_,fontsize=14)\n",
    "    \n",
    "\n",
    "    if i==1:ax_.set_ylim(ymin=0,ymax=2*ax_.get_ylim()[1])\n",
    "    if i!=1:ax_.set_ylim(ymin=0,ymax=1.2*ax_.get_ylim()[1])\n",
    "    coordinates = [(ax_.get_xlim()[1] - ax_.get_xlim()[0]), (ax_.get_ylim()[1] - ax_.get_ylim()[0])]\n",
    "    ax_.text(0.4*coordinates[0],0.7*coordinates[1], 'Acc$_{v} = $%.3f %%' %acc_valid[i,-1], fontsize=12,color='r',clip_on=True)\n",
    "    ax_.text(0.4*coordinates[0],0.62*coordinates[1], 'Acc$_{t} = $%.3f %%' %acc_train[i,-1], fontsize=12,clip_on=True)    \n",
    "    ax_.set_xlim((0,20))\n",
    "ax1.set_ylabel('Mean loss',fontsize=14)\n",
    "\n",
    "plt.show()          \n",
    "\n",
    "fig.savefig('Figures/Q1_Initialization.pdf')"
   ]
  },
  {
   "cell_type": "code",
   "execution_count": 169,
   "metadata": {},
   "outputs": [
    {
     "data": {
      "text/plain": [
       "array([ 86.74 ,  89.708,  90.626,  91.564,  92.27 ,  92.7  ,  93.154,\n",
       "        93.57 ,  93.868,  94.168,  94.466,  94.698,  94.938,  95.124,\n",
       "        95.378,  95.48 ,  95.658,  95.844,  95.954,  96.06 ])"
      ]
     },
     "execution_count": 169,
     "metadata": {},
     "output_type": "execute_result"
    }
   ],
   "source": []
  },
  {
   "cell_type": "code",
   "execution_count": 8,
   "metadata": {},
   "outputs": [
    {
     "name": "stdout",
     "output_type": "stream",
     "text": [
      "Accuracy - Train\n",
      "________________\n",
      "Initialization - zero =94.26%\n",
      "Initialization - normal =11.356%\n",
      "Initialization - glorot =99.226%\n",
      "Initialization - none =96.06%\n",
      "     \n",
      "     \n",
      "Accuracy - Valid\n",
      "________________\n",
      "Initialization - zero =94.57%\n",
      "Initialization - normal =10.64%\n",
      "Initialization - glorot =93.13%\n",
      "Initialization - none =96.06%\n"
     ]
    }
   ],
   "source": [
    "print('Accuracy - Train')\n",
    "print('________________')\n",
    "print('Initialization - zero ='+str(acc_train[0,-1])+'%')\n",
    "print('Initialization - normal ='+str(acc_train[1,-1])+'%')\n",
    "print('Initialization - glorot ='+str(acc_train[2,-1])+'%')\n",
    "print('Initialization - none ='+str(acc_train[3,-1])+'%')\n",
    "print('     ')\n",
    "print('     ')\n",
    "print('Accuracy - Valid')\n",
    "print('________________')\n",
    "print('Initialization - zero ='+str(acc_valid[0,-1])+'%')\n",
    "print('Initialization - normal ='+str(acc_valid[1,-1])+'%')\n",
    "print('Initialization - glorot ='+str(acc_valid[2,-1])+'%')\n",
    "print('Initialization - none ='+str(acc_valid[3,-1])+'%')\n",
    "\n"
   ]
  },
  {
   "cell_type": "code",
   "execution_count": null,
   "metadata": {
    "collapsed": true
   },
   "outputs": [],
   "source": []
  },
  {
   "cell_type": "markdown",
   "metadata": {
    "collapsed": true
   },
   "source": [
    "# Learning Curves\n",
    "\n",
    "## Search for the optimal hyperparameters."
   ]
  },
  {
   "cell_type": "code",
   "execution_count": 20,
   "metadata": {
    "collapsed": true
   },
   "outputs": [],
   "source": [
    "np.random.seed(seed=None)\n",
    "\n",
    "cuda = False\n",
    "batch_size = 100\n",
    "num_epochs = 1\n",
    "lr0 = 0.1\n",
    "\n",
    "h0 = 28*28    #784\n",
    "h1 = b1 = 500\n",
    "h2 = b2 = 300\n",
    "h3 = b3 = 10\n",
    "\n",
    "nb_hp = 1\n",
    "hyperparameters=np.empty((nb_hp,4))\n",
    "for i in range(nb_hp):\n",
    "    hyperparameters[i,:] = np.concatenate((\n",
    "        np.random.randint(300,800,1),\n",
    "        np.random.randint(300,800,1),\n",
    "        np.random.randint(20,200,1),        \n",
    "        np.random.uniform(0.0001,0.1,1)\n",
    "    )).reshape(1,4)\n",
    "\n",
    "# initialization_method = ['default','zero','normal','glorot']    \n",
    "\n",
    "hp = []\n",
    "for i,h in enumerate(hyperparameters):\n",
    "    hp.append([h[0],h[1],h[2],h[3],'default'])\n",
    "for i,h in enumerate(hyperparameters):    \n",
    "    hp.append([h[0],h[1],h[2],h[3],'zero'])\n",
    "for i,h in enumerate(hyperparameters):    \n",
    "    hp.append([h[0],h[1],h[2],h[3],'normal'])    \n",
    "for i,h in enumerate(hyperparameters):    \n",
    "    hp.append([h[0],h[1],h[2],h[3],'glorot'])        \n"
   ]
  },
  {
   "cell_type": "markdown",
   "metadata": {},
   "source": [
    "__We ran sixty different hyperparameters on GPUs. The data was pickled in the file called 'Hunt for best hyperparameters - Q1'. The results are printed and plotted below. __ "
   ]
  },
  {
   "cell_type": "code",
   "execution_count": 9,
   "metadata": {},
   "outputs": [
    {
     "name": "stdout",
     "output_type": "stream",
     "text": [
      "best hyperparameters are : \n",
      "[787.0, 437.0, 77.0, 0.088607443091241619, 'glorot']\n"
     ]
    }
   ],
   "source": [
    "with open('SaveData/Q1/Hunt for best hyperparameters - Q1', 'rb') as f:\n",
    "    loss_train, loss_valid, acc_train, acc_valid, hp  = pickle.load(f)\n",
    "\n",
    "max=0\n",
    "for i, (acc_,hp_) in enumerate(zip(acc_valid,hp)):\n",
    "    if hp_[4] == 'default':\n",
    "        pass\n",
    "    else:\n",
    "        max_acc = np.max(acc_)\n",
    "        if max_acc > max:\n",
    "            max = max_acc\n",
    "            h_star = hp_\n",
    "\n",
    "\n",
    "\n",
    "print('best hyperparameters are : ')\n",
    "print(h_star)\n"
   ]
  },
  {
   "cell_type": "code",
   "execution_count": null,
   "metadata": {
    "collapsed": true
   },
   "outputs": [],
   "source": []
  },
  {
   "cell_type": "code",
   "execution_count": null,
   "metadata": {},
   "outputs": [],
   "source": [
    "hp = [[2*787, 2*437, 77, 0.088607443091241619, 'glorot'],]\n",
    "\n",
    "cuda = False\n",
    "n = len(hp)\n",
    "m = num_epochs\n",
    "\n",
    "loss_train = np.empty([n,m]) \n",
    "loss_valid = np.empty([n,m]) \n",
    "\n",
    "acc_train = np.empty([n,m]) \n",
    "acc_valid = np.empty([n,m]) \n",
    "lr = np.empty([n,m]) \n",
    "\n",
    "t0 = time.time()        \n",
    "for i, (h1s, h2s, bs, lrs, method_) in enumerate(hp):\n",
    "    \n",
    "    train_batch = torch.utils.data.DataLoader(data_utils.TensorDataset(train_data,train_labels), batch_size=bs, shuffle=True)\n",
    "    valid_batch = torch.utils.data.DataLoader(data_utils.TensorDataset(valid_data,valid_labels), batch_size=bs, shuffle=False)\n",
    "    test_batch = torch.utils.data.DataLoader(data_utils.TensorDataset(test_data,test_labels), batch_size=bs, shuffle=False)\n",
    "\n",
    "    model = MLPLinear([h0,h1s,h2s,h3],cuda) \n",
    "    model.initialization(method_)\n",
    "    optimizer = optim.SGD(model.parameters(), lr=lrs)\n",
    "    \n",
    "    print('     ')\n",
    "    print('     ')    \n",
    "    print('Initialization method : '+method_)\n",
    "    print('________________________________')    \n",
    "    for j in range(num_epochs):\n",
    "        model_loss = 0\n",
    "        for batch_idx, (x,y) in enumerate(train_batch):\n",
    "            xt,yt = model.input(x,y)\n",
    "            pred_batch = model.forward(xt)\n",
    "            \n",
    "            optimizer.zero_grad()\n",
    "            loss_batch = model.criterion(pred_batch, yt)\n",
    "            loss_batch.backward()\n",
    "            optimizer.step()\n",
    "        \n",
    "        xt_,yt_ = model.input(train_data,train_labels)\n",
    "        xv_,yv_ = model.input(valid_data,valid_labels)\n",
    "        pred_train_all = model.forward(xt_)\n",
    "        pred_valid_all = model.forward(xv_)  \n",
    "        \n",
    "        loss_train[i,j] = model.criterion(pred_train_all,yt_).data[0]\n",
    "        loss_valid[i,j] = model.criterion(pred_valid_all,yv_).data[0]\n",
    "\n",
    "        acc_train[i,j]  = prediction(train_batch,model)\n",
    "        acc_valid[i,j]  = prediction(valid_batch,model)\n",
    "        \n",
    "        if j%10 ==0: print('Epoch #'+str(j)+', Train loss = '+str(loss_train[i,j])+', Valid loss = '+str(loss_valid[i,j]))\n",
    "        lr[i,j] = adjust_lr(optimizer,lrs, j+1, num_epochs)\n",
    "    print('Train accuracy = '+str(prediction(train_batch,model))+'%')\n",
    "    ts = time.time()        \n",
    "    print('Time :  %.1f sec'%(ts-t0))\n",
    "print('done!')\n"
   ]
  },
  {
   "cell_type": "code",
   "execution_count": 22,
   "metadata": {
    "collapsed": true
   },
   "outputs": [],
   "source": [
    "# filename = 'SaveData/Q1/LearningRate_best_HP_doubled'\n",
    "# with open(filename, 'wb') as f: \n",
    "#     pickle.dump([loss_train, loss_valid, acc_train, acc_valid,hp], f)"
   ]
  },
  {
   "cell_type": "code",
   "execution_count": 11,
   "metadata": {},
   "outputs": [
    {
     "data": {
      "image/png": "[encoded data removed]",
      "text/plain": [
       "<matplotlib.figure.Figure at 0x152362eef0>"
      ]
     },
     "metadata": {},
     "output_type": "display_data"
    }
   ],
   "source": [
    "with open('SaveData/Q1/LearningCurve_best_HP', 'rb') as f:\n",
    "    loss_train, loss_valid, acc_train, acc_valid, hp  = pickle.load(f)\n",
    "    \n",
    "\n",
    "fig, (ax1) = plt.subplots(1,figsize=(5,4))\n",
    "ax = [ax1]\n",
    "# text = ['$h_1 = $'+str(h1[0])+', $h_2 = $'+str(h2[0])]\n",
    "\n",
    "\n",
    "for i, ax_ in enumerate(ax): \n",
    "\n",
    "    ax_.plot(acc_train[i,:],'o-',label=initialization_method[0],color='k')\n",
    "    ax_.plot(acc_valid[i,:],'o-',label=initialization_method[0],color='r')\n",
    "    \n",
    "    ax_.set_xlabel('epoch',fontsize=14)\n",
    "    legend = ax_.legend(['Train','Valid'],loc='lower right',fontsize=14)\n",
    "    ax_.set_xlim([0,100])\n",
    "\n",
    "\n",
    "    coordinates = [(ax_.get_xlim()[1] - ax_.get_xlim()[0]), (ax_.get_ylim()[1] - ax_.get_ylim()[0])]\n",
    "    xmin, xmax = ax_.get_xlim()\n",
    "    ymin, ymax = ax_.get_ylim()\n",
    "    ax_.text(0.1*(xmax - xmin) + xmin, 0.1*(ymax-ymin) + ymin,'(a)', fontsize=14,color='k')        \n",
    "    ax_.text(0.4*(xmax - xmin) + xmin, 0.4*(ymax-ymin) + ymin,'Max Acc$_v$ = %.3f %%'%np.max(acc_train), fontsize=14,color='k')        \n",
    "    ax_.text(0.4*(xmax - xmin) + xmin, 0.3*(ymax-ymin) + ymin,'Max Acc$_v$ = %.3f %%'%np.max(acc_valid), fontsize=14,color='r')\n",
    "\n",
    "#     ax_.text(0.4*coordinates[0],0.7*coordinates[1], , fontsize=12,color='r')    \n",
    "\n",
    "ax1.set_ylabel('Accuracy',fontsize=14)\n",
    "plt.show()  \n",
    "\n",
    "fig.savefig('Figures/Q1_Best_HP.pdf')"
   ]
  },
  {
   "cell_type": "code",
   "execution_count": 12,
   "metadata": {},
   "outputs": [
    {
     "name": "stdout",
     "output_type": "stream",
     "text": [
      "Parameters are : h1 = 1574, h2 = 874, batch size = 77\n"
     ]
    },
    {
     "data": {
      "image/png": "[encoded data removed]",
      "text/plain": [
       "<matplotlib.figure.Figure at 0x15256994e0>"
      ]
     },
     "metadata": {},
     "output_type": "display_data"
    }
   ],
   "source": [
    "with open('SaveData/Q1/LearningCurve_best_HP_double', 'rb') as f:\n",
    "    loss_train, loss_valid, acc_train, acc_valid, hp  = pickle.load(f)\n",
    "    \n",
    "print('Parameters are : h1 = %.f, h2 = %.f, batch size = %.f'%(hp[0][0],hp[0][1],hp[0][2]))\n",
    "    \n",
    "\n",
    "fig, (ax1) = plt.subplots(1,figsize=(5,4))\n",
    "ax = [ax1]\n",
    "# text = ['$h_1 = $'+str(h1[0])+', $h_2 = $'+str(h2[0])]\n",
    "\n",
    "\n",
    "for i, ax_ in enumerate(ax): \n",
    "\n",
    "    ax_.plot(acc_train[i,:],'o-',label=initialization_method[0],color='k')\n",
    "    ax_.plot(acc_valid[i,:],'o-',label=initialization_method[0],color='r')\n",
    "    \n",
    "    ax_.set_xlabel('epoch',fontsize=14)\n",
    "    legend = ax_.legend(['Train','Valid'],loc='lower right',fontsize=14)\n",
    "    ax_.set_xlim([0,100])\n",
    "\n",
    "\n",
    "    coordinates = [(ax_.get_xlim()[1] - ax_.get_xlim()[0]), (ax_.get_ylim()[1] - ax_.get_ylim()[0])]\n",
    "    xmin, xmax = ax_.get_xlim()\n",
    "    ymin, ymax = ax_.get_ylim()\n",
    "    ax_.text(0.1*(xmax - xmin) + xmin, 0.1*(ymax-ymin) + ymin,'(b)', fontsize=14,color='k')        \n",
    "    ax_.text(0.4*(xmax - xmin) + xmin, 0.4*(ymax-ymin) + ymin,'Max Acc$_v$ = %.3f %%'%np.max(acc_train), fontsize=14,color='k')        \n",
    "    ax_.text(0.4*(xmax - xmin) + xmin, 0.3*(ymax-ymin) + ymin,'Max Acc$_v$ = %.3f %%'%np.max(acc_valid), fontsize=14,color='r')\n",
    "\n",
    "#     ax_.text(0.4*coordinates[0],0.7*coordinates[1], , fontsize=12,color='r')    \n",
    "\n",
    "ax1.set_ylabel('Accuracy',fontsize=14)\n",
    "plt.show()  \n",
    "\n",
    "fig.savefig('Figures/Q1_Best_HP_double.pdf')"
   ]
  },
  {
   "cell_type": "code",
   "execution_count": 13,
   "metadata": {},
   "outputs": [
    {
     "name": "stdout",
     "output_type": "stream",
     "text": [
      "Parameters are : h1 = 3935, h2 = 1748, batch size = 77\n"
     ]
    },
    {
     "data": {
      "image/png": "[encoded data removed]",
      "text/plain": [
       "<matplotlib.figure.Figure at 0x105af0fd0>"
      ]
     },
     "metadata": {},
     "output_type": "display_data"
    }
   ],
   "source": [
    "with open('SaveData/Q1/LearningCurve_best_HP_VeryBig', 'rb') as f:\n",
    "    loss_train, loss_valid, acc_train, acc_valid, hp  = pickle.load(f)\n",
    "    \n",
    "print('Parameters are : h1 = %.f, h2 = %.f, batch size = %.f'%(hp[0][0],hp[0][1],hp[0][2]))\n",
    "    \n",
    "\n",
    "fig, (ax1) = plt.subplots(1,figsize=(5,4))\n",
    "ax = [ax1]\n",
    "# text = ['$h_1 = $'+str(h1[0])+', $h_2 = $'+str(h2[0])]\n",
    "\n",
    "\n",
    "for i, ax_ in enumerate(ax): \n",
    "\n",
    "    ax_.plot(acc_train[i,:],'o-',label=initialization_method[0],color='k')\n",
    "    ax_.plot(acc_valid[i,:],'o-',label=initialization_method[0],color='r')\n",
    "    \n",
    "    ax_.set_xlabel('epoch',fontsize=14)\n",
    "    legend = ax_.legend(['Train','Valid'],loc='lower right',fontsize=14)\n",
    "    ax_.set_xlim([0,100])\n",
    "\n",
    "\n",
    "    coordinates = [(ax_.get_xlim()[1] - ax_.get_xlim()[0]), (ax_.get_ylim()[1] - ax_.get_ylim()[0])]\n",
    "    xmin, xmax = ax_.get_xlim()\n",
    "    ymin, ymax = ax_.get_ylim()\n",
    "    ax_.text(0.1*(xmax - xmin) + xmin, 0.1*(ymax-ymin) + ymin,'(b)', fontsize=14,color='k')        \n",
    "    ax_.text(0.4*(xmax - xmin) + xmin, 0.4*(ymax-ymin) + ymin,'Max Acc$_v$ = %.3f %%'%np.max(acc_train), fontsize=14,color='k')        \n",
    "    ax_.text(0.4*(xmax - xmin) + xmin, 0.3*(ymax-ymin) + ymin,'Max Acc$_v$ = %.3f %%'%np.max(acc_valid), fontsize=14,color='r')\n",
    "\n",
    "#     ax_.text(0.4*coordinates[0],0.7*coordinates[1], , fontsize=12,color='r')    \n",
    "\n",
    "ax1.set_ylabel('Accuracy',fontsize=14)\n",
    "plt.show()  \n",
    "\n",
    "fig.savefig('Figures/Q1_Best_HP_VeryBig.pdf')"
   ]
  },
  {
   "cell_type": "code",
   "execution_count": null,
   "metadata": {
    "collapsed": true
   },
   "outputs": [],
   "source": []
  },
  {
   "cell_type": "markdown",
   "metadata": {},
   "source": [
    "## Training Set Size, Generalization Gap, and Standard Error"
   ]
  },
  {
   "cell_type": "code",
   "execution_count": null,
   "metadata": {
    "collapsed": true
   },
   "outputs": [],
   "source": [
    "\n",
    "\n",
    "\n",
    "#### GAP\n",
    "cuda  = True\n",
    "#hp = [[2*787, 2437, 77, 0.088607443091241619, 'glorot'],]\n",
    "h0 = 28*28\n",
    "h1 = 787\n",
    "h2 = 437\n",
    "h3 = 10\n",
    "lr0 = 0.0886\n",
    "num_epochs = 100\n",
    "batch_size = 77\n",
    "a = [0.01, 0.02, 0.05, 0.1, 1.0]\n",
    "T = 5\n",
    "\n",
    "initialization_method = ['glorot']\n",
    "\n",
    "loss_valid_all=np.empty([T,len(a),num_epochs])\n",
    "loss_train_all=np.empty([T,len(a),num_epochs])\n",
    "loss_test_all=np.empty([T,len(a),num_epochs])\n",
    "acc_valid_all=np.empty([T,len(a),num_epochs])\n",
    "acc_train_all=np.empty([T,len(a),num_epochs])\n",
    "acc_test_all=np.empty([T,len(a),num_epochs])\n",
    "\n",
    "\n",
    "for i in range(T):\n",
    "    print(str(i+1)+'/5')\n",
    "    for j,a_ in enumerate(a):\n",
    "        ind = torch.randperm(int(a_*50000))\n",
    "        train_data_subset = train_data[ind]\n",
    "        train_labels_subset = torch.FloatTensor(train_y[ind]).long()\n",
    "\n",
    "        train_batch = torch.utils.data.DataLoader(data_utils.TensorDataset(train_data_subset,train_labels_subset), batch_size=batch_size, shuffle=True)\n",
    "        valid_batch = torch.utils.data.DataLoader(data_utils.TensorDataset(valid_data,valid_labels), batch_size=batch_size, shuffle=False)\n",
    "        test_batch = torch.utils.data.DataLoader(data_utils.TensorDataset(test_data,test_labels), batch_size=batch_size, shuffle=False)\n",
    "        \n",
    "        model = MLPLinear([h0,h1,h2,h3],cuda) \n",
    "        model.initialization('glorot')\n",
    "        optimizer = optim.SGD(model.parameters(), lr=lr0)\n",
    "            \n",
    "        loss_train = np.array([])\n",
    "        loss_valid = np.array([])\n",
    "        loss_test = np.array([])\n",
    "\n",
    "        acc_train = np.array([])\n",
    "        acc_valid = np.array([])\n",
    "        acc_test = np.array([])\n",
    "        lr = np.array([])\n",
    "        \n",
    "        for k in range(num_epochs):\n",
    "            for batch_idx, (x,y) in enumerate(train_batch):\n",
    "                xt,yt = model.input(x,y)\n",
    "                pred_batch = model.forward(xt)\n",
    "            \n",
    "                optimizer.zero_grad()\n",
    "                loss_batch = model.criterion(pred_batch, yt)\n",
    "                loss_batch.backward()\n",
    "                optimizer.step()    \n",
    "            \n",
    "            xt_,yt_ = model.input(train_data,train_labels)\n",
    "            xv_,yv_ = model.input(valid_data,valid_labels)\n",
    "            xte_,yte_ = model.input(test_data,test_labels)\n",
    "            pred_train_all = model.forward(xt_)\n",
    "            pred_valid_all = model.forward(xv_)  \n",
    "            pred_test_all = model.forward(xte_)  \n",
    "        \n",
    "            \n",
    "            loss_valid = np.append(loss_valid,model.criterion(pred_valid_all,yv_).data[0])\n",
    "            loss_train = np.append(loss_train,model.criterion(pred_train_all,yt_).data[0])\n",
    "            loss_test = np.append(loss_test,model.criterion(pred_test_all,yte_).data[0])\n",
    "            acc_valid  = np.append(acc_valid,prediction(valid_batch,model))\n",
    "            acc_train  = np.append(acc_train,prediction(train_batch,model))\n",
    "            acc_test  = np.append(acc_test,prediction(test_batch,model))\n",
    "            lr_ = adjust_lr(optimizer,lr0, j+1, num_epochs)\n",
    "            lr = np.append(lr,lr_)\n",
    "              \n",
    "            if k%20 == 0:\n",
    "                print('Epoch #'+str(k)+', Train loss = '+str(loss_train[k])+', Valid loss = '+str(loss_valid[k])+', lr = '+str(lr[k]))\n",
    "        \n",
    "        print('Train accuracy = '+str(prediction(train_batch,model))+'%'+',  Valid accuracy = '+str(prediction(valid_batch,model))+'%')        \n",
    "\n",
    "    \n",
    "        loss_train_all[i,j,:] = loss_train\n",
    "        loss_valid_all[i,j:] = loss_valid\n",
    "        loss_test_all[i,j:] = loss_test\n",
    "        acc_train_all[i,j:] = acc_train\n",
    "        acc_valid_all[i,j:] = acc_valid\n",
    "        acc_test_all[i,j:] = acc_test\n",
    "\n",
    "\n",
    "\n",
    "print('Done!')\n",
    "\n",
    "\n",
    "\n",
    "# filename = ''Generalize_Gap\n",
    "# with open(filename, 'wb') as f: \n",
    "#     pickle.dump([loss_train_all, loss_valid_all,loss_test_all, acc_train_all, acc_valid_all,acc_test_all,h1,h2,batch_size,lr0], f)\n",
    "\n"
   ]
  },
  {
   "cell_type": "code",
   "execution_count": 61,
   "metadata": {
    "collapsed": true
   },
   "outputs": [],
   "source": []
  },
  {
   "cell_type": "code",
   "execution_count": 14,
   "metadata": {
    "collapsed": true
   },
   "outputs": [],
   "source": [
    "with open('SaveData/Q1/Generalize_Gap_v4', 'rb') as f:\n",
    "    loss_train_all, loss_valid_all,loss_test_all, acc_train_all, acc_valid_all,acc_test_all,h1,h2,batch_size,lr0  = pickle.load(f)\n",
    "    \n",
    "\n",
    "epoch_star = np.argmax(acc_valid_all,axis=2)\n",
    "gap = np.empty((5,5))\n",
    "for i in range(5):\n",
    "    for j in range(5):\n",
    "        e_ = epoch_star[i,j]\n",
    "        gap[i,j] = acc_train_all[i,j,e_] - acc_test_all[i,j,e_]\n",
    "        \n",
    "\n",
    "\n"
   ]
  },
  {
   "cell_type": "code",
   "execution_count": 15,
   "metadata": {},
   "outputs": [
    {
     "name": "stdout",
     "output_type": "stream",
     "text": [
      "[   500.   1000.   2500.   5000.  50000.]\n"
     ]
    },
    {
     "data": {
      "image/png": "[encoded data removed]",
      "text/plain": [
       "<matplotlib.figure.Figure at 0x1527f5da58>"
      ]
     },
     "metadata": {},
     "output_type": "display_data"
    }
   ],
   "source": [
    "gap_mean = np.mean(gap,axis=0)\n",
    "gap_std = np.std(gap,axis=0)\n",
    "NT = 50000*np.array((0.01, 0.02, 0.05, 0.1, 1.0))\n",
    "print(NT)\n",
    "fig, (ax1,ax2) = plt.subplots(1,2,figsize=(10,4))\n",
    "\n",
    "ax1.plot(NT,gap_mean,'-ko',markersize=10)\n",
    "ax2.plot(NT,gap_std,'-ro',markersize=10)\n",
    "            \n",
    "ax1.set_ylabel('Mean',fontsize=14)\n",
    "ax2.set_ylabel('Standard deviation',fontsize=14)\n",
    "ax1.set_xlabel('a*N',fontsize=14)\n",
    "# ax1.set_title('Hyperparameters random search')\n",
    "\n",
    "for i, ax in enumerate([ax1,ax2]):\n",
    "    for item in ([ax.title, ax.xaxis.label, ax.yaxis.label] + ax.get_xticklabels() + ax.get_yticklabels()):\n",
    "        item.set_fontsize(14)        \n",
    "plt.show()        \n",
    "\n",
    "fig.savefig('Figures/Gap.pdf')\n",
    "\n",
    " "
   ]
  },
  {
   "cell_type": "code",
   "execution_count": 16,
   "metadata": {},
   "outputs": [
    {
     "name": "stdout",
     "output_type": "stream",
     "text": [
      "[[ 14.9   11.5    8.1    5.83   1.83]\n",
      " [ 14.73  11.67   8.14   5.84   1.68]\n",
      " [ 14.78  11.69   8.05   5.96   1.74]\n",
      " [ 14.72  11.54   8.26   5.86   1.76]\n",
      " [ 14.98  11.6    8.23   5.77   1.73]]\n",
      "[ 14.822  11.6     8.156   5.852   1.748]\n",
      "[ 0.10166612  0.07293833  0.07863841  0.06177378  0.04874423]\n"
     ]
    }
   ],
   "source": [
    "print(gap)\n",
    "print(gap_mean)\n",
    "print(gap_std)"
   ]
  },
  {
   "cell_type": "code",
   "execution_count": null,
   "metadata": {
    "collapsed": true
   },
   "outputs": [],
   "source": []
  },
  {
   "cell_type": "code",
   "execution_count": null,
   "metadata": {
    "collapsed": true
   },
   "outputs": [],
   "source": []
  },
  {
   "cell_type": "code",
   "execution_count": null,
   "metadata": {
    "collapsed": true
   },
   "outputs": [],
   "source": []
  },
  {
   "cell_type": "code",
   "execution_count": null,
   "metadata": {
    "collapsed": true
   },
   "outputs": [],
   "source": []
  },
  {
   "cell_type": "code",
   "execution_count": null,
   "metadata": {
    "collapsed": true
   },
   "outputs": [],
   "source": []
  },
  {
   "cell_type": "code",
   "execution_count": null,
   "metadata": {
    "collapsed": true
   },
   "outputs": [],
   "source": []
  },
  {
   "cell_type": "code",
   "execution_count": null,
   "metadata": {
    "collapsed": true
   },
   "outputs": [],
   "source": []
  },
  {
   "cell_type": "code",
   "execution_count": null,
   "metadata": {
    "collapsed": true
   },
   "outputs": [],
   "source": []
  },
  {
   "cell_type": "markdown",
   "metadata": {},
   "source": [
    "## LOG \n",
    "### Data files for hyper-parameter analysis \n",
    "\n",
    "* Data_MNIST_GLOROT_150bs : lr0 = 0.2 Might be too large. 99% after only 9 epochs. Did not save the h2, h3 and batchsize in pickle\n",
    "* Data_MNIST_GLOROT_100bs : lr0 = 0.2 Might be too large. 99% after only 9 epochs. \n",
    "\n",
    "* Data_MNIST_GLOROT_100bs : lr0 = 0.15 Might be too large. 99% after only 9 epochs. h1 = 500 and h2 = 400\n",
    "* Data_MNIST_GLOROT_50bs : lr0 = 0.1, h1 = b1 = [300,500,800], h2 = b2 = [200,400,700]\n",
    "* Data_MNIST_GLOROT_100bs : lr0 = 0.1, h1 = b1 = [300,500,800], h2 = b2 = [200,400,700]\n",
    "* Data_MNIST_GLOROT_100bs : lr0 = 0.01, h1 = b1 = [500], h2 = b2 = [400] - to reproduce the previous results. Data_MNIST_GLOROT_100bs_2018-02-06 22h47m41s - lr = 0.01 - too slow. \n",
    "* Data_MNIST_GLOROT_100bs : lr0 = 0.1, h1 = b1 = [500], h2 = b2 = [400] - to reproduce the previous results. Data_MNIST_GLOROT_100bs_2018-02-06 22h57m10s - lr = 0.1. \n",
    "* Data_MNIST_GLOROT_100bs : lr0 = 0.1, h1 = b1 = 2*[500] = 1000, h2 = b2 = 2*[400] = 800 - with twice the capacity\n",
    "\n",
    "\n"
   ]
  },
  {
   "cell_type": "code",
   "execution_count": null,
   "metadata": {
    "collapsed": true
   },
   "outputs": [],
   "source": [
    "# with open('Data_MNIST_GLOROT_50bs_2018-02-06 15h39m31s', 'rb') as f:\n",
    "#     loss_train, loss_valid, acc_train, acc_valid, lr, h1, h2, batch_size  = pickle.load(f)\n",
    "\n",
    "\n",
    "\n",
    "fig, (ax1,ax2,ax3) = plt.subplots(1,3,figsize=(16,6))\n",
    "ax = [ax1,ax2,ax3]\n",
    "text = ['$h_1 = $'+str(h1[0])+', $h_2 = $'+str(h2[0]),'$h_1 = $'+str(h1[1])+', $h_2 = $'+str(h1[1]),'$h_1 = $'+str(h1[2])+', $h_2 = $'+str(h1[2])]\n",
    "h_star = [10,6,10]\n",
    "\n",
    "for i, (ax_,text_,h_star_) in enumerate(zip(ax,text,h_star)): \n",
    "    color = next(ax_._get_lines.prop_cycler)['color']\n",
    "    ax_.plot(loss_valid[0,i,i,:],'o--',label=initialization_method[0],color='r')\n",
    "    ax_.plot(loss_train[0,i,i,:],'o-',label=initialization_method[0],color='k')\n",
    "    \n",
    "    ax_.set_xlabel('epoch',fontsize=14)\n",
    "\n",
    "    legend = ax_.legend(['Valid','Train'],loc='upper right',fontsize=14)\n",
    "    ax_.set_xlim([0,40])\n",
    "    ax_.set_ylim([0,0.18])\n",
    "\n",
    "    coordinates = [(ax_.get_xlim()[1] - ax_.get_xlim()[0]), (ax_.get_ylim()[1] - ax_.get_ylim()[0])]\n",
    "    ax_.text(0.4*coordinates[0],0.75*coordinates[1], text_, fontsize=12)\n",
    "    \n",
    "    ax_.plot([h_star_,h_star_],[0,coordinates[1]],'k--')\n",
    "    ax_.text(0.4*coordinates[0],0.65*coordinates[1], 'Acc$_{v} = $%.3f %%' %acc_valid[0,i,i,h_star_], fontsize=12,color='r')\n",
    "    ax_.text(0.4*coordinates[0],0.55*coordinates[1], 'Acc$_{t} = $%.3f %%' %acc_train[0,i,i,h_star_], fontsize=12)    \n",
    "ax1.set_ylabel('Mean Loss',fontsize=14)\n",
    "\n",
    "\n",
    "fp = FontProperties(family=\"sans-serif\", size=15)\n",
    "plt.suptitle('BatchSize = '+str(batch_size[0]),fontproperties=fp)\n",
    "plt.show()          \n",
    "\n",
    "fig.savefig('Figures/Learning_curveS_50bs.pdf')"
   ]
  },
  {
   "cell_type": "code",
   "execution_count": null,
   "metadata": {
    "collapsed": true
   },
   "outputs": [],
   "source": [
    "with open('Data_MNIST_GLOROT_100bs_2018-02-06 21h00m02s', 'rb') as f:\n",
    "    loss_train, loss_valid, acc_train, acc_valid, lr, h1, h2, batch_size  = pickle.load(f)\n",
    "\n",
    "    # for the other 100bs \n",
    "# h1 = [500,650,800]\n",
    "# h2 = [400,550,700]\n",
    "\n",
    "fig, (ax1,ax2,ax3) = plt.subplots(1,3,figsize=(16,6))\n",
    "ax = [ax1,ax2,ax3]\n",
    "text = ['$h_1 = $'+str(h1[0])+', $h_2 = $'+str(h2[0]),'$h_1 = $'+str(h1[1])+', $h_2 = $'+str(h1[1]),'$h_1 = $'+str(h1[2])+', $h_2 = $'+str(h1[2])]\n",
    "h_star = [13,12,13]\n",
    "\n",
    "\n",
    "\n",
    "for i, (ax_,text_,h_star_) in enumerate(zip(ax,text,h_star)): \n",
    "    color = next(ax_._get_lines.prop_cycler)['color']\n",
    "    ax_.plot(loss_valid[0,i,i,:],'o--',label=initialization_method[0],color='r')\n",
    "    ax_.plot(loss_train[0,i,i,:],'o-',label=initialization_method[0],color='k')\n",
    "    \n",
    "    ax_.set_xlabel('epoch',fontsize=14)\n",
    "    \n",
    "    legend = ax_.legend(['Valid','Train'],loc='upper right',fontsize=14)\n",
    "    ax_.set_xlim([0,40])\n",
    "    ax_.set_ylim([0,0.18])\n",
    "\n",
    "    coordinates = [(ax_.get_xlim()[1] - ax_.get_xlim()[0]), (ax_.get_ylim()[1] - ax_.get_ylim()[0])]\n",
    "    ax_.text(0.4*coordinates[0],0.7*coordinates[1], text_, fontsize=12)\n",
    "\n",
    "    ax_.plot([h_star_,h_star_],[0,coordinates[1]],'k--')\n",
    "    ax_.text(0.4*coordinates[0],0.6*coordinates[1], 'Acc$_{v} = $%.3f %%' %acc_valid[0,i,i,h_star_], fontsize=12,color='r')\n",
    "    ax_.text(0.4*coordinates[0],0.5*coordinates[1], 'Acc$_{t} = $%.3f %%' %acc_train[0,i,i,h_star_], fontsize=12)    \n",
    "\n",
    "ax1.set_ylabel('Mean Loss',fontsize=14)\n",
    "fp = FontProperties(family=\"sans-serif\", size=15)\n",
    "plt.suptitle('BatchSize = '+str(batch_size[0]),fontproperties=fp)\n",
    "plt.show()   \n",
    "\n",
    "fig.savefig('Figures/Learning_curveS_100bs.pdf')\n",
    "\n"
   ]
  },
  {
   "cell_type": "code",
   "execution_count": null,
   "metadata": {
    "collapsed": true
   },
   "outputs": [],
   "source": [
    "with open('Data_MNIST_GLOROT_100bs_2018-02-06 22h57m10s', 'rb') as f:\n",
    "    loss_train, loss_valid, acc_train, acc_valid, lr, h1, h2, batch_size  = pickle.load(f)\n",
    "    \n",
    "h_star_ = 14\n",
    "fig, (ax1) = plt.subplots(1,figsize=(7,6))\n",
    "ax = [ax1]\n",
    "text = ['$h_1 = $'+str(h1[0])+', $h_2 = $'+str(h2[0])]\n",
    "\n",
    "\n",
    "for i, (ax_,text_) in enumerate(zip(ax,text)): \n",
    "    color = next(ax_._get_lines.prop_cycler)['color']\n",
    "    ax_.plot(loss_valid[0,i,i,:],'o-',label=initialization_method[0],color='r')\n",
    "    ax_.plot(loss_train[0,i,i,:],'o-',label=initialization_method[0],color='k')\n",
    "    \n",
    "    ax_.set_xlabel('epoch',fontsize=14)\n",
    "    legend = ax_.legend(['Valid','Train'],loc='upper right',fontsize=14)\n",
    "    ax_.set_xlim([0,100])\n",
    "\n",
    "    coordinates = [(ax_.get_xlim()[1] - ax_.get_xlim()[0]), (ax_.get_ylim()[1] - ax_.get_ylim()[0])]\n",
    "    ax_.text(0.4*coordinates[0],0.9*coordinates[1], 'Batch size = %.0f' %batch_size[0], fontsize=12)\n",
    "    ax_.text(0.4*coordinates[0],0.8*coordinates[1], text_, fontsize=12)\n",
    "\n",
    "    ax_.plot([h_star_,h_star_],[0,coordinates[1]],'k--')\n",
    "    ax_.text(0.4*coordinates[0],0.6*coordinates[1], 'Acc$_t$ = %.3f %%' %acc_train[0,i,i,h_star_], fontsize=12)\n",
    "    ax_.text(0.4*coordinates[0],0.7*coordinates[1], 'Acc$_v$ = %.3f %%' %acc_valid[0,i,i,h_star_], fontsize=12,color='r')    \n",
    "\n",
    "ax1.set_ylabel('Mean Loss',fontsize=14)\n",
    "plt.show()  \n",
    "\n",
    "fig.savefig('Figures/BS_100_h1_500_h2_400_Glorot.pdf')\n",
    "\n"
   ]
  },
  {
   "cell_type": "code",
   "execution_count": null,
   "metadata": {
    "collapsed": true
   },
   "outputs": [],
   "source": [
    "with open('Data_MNIST_GLOROT_100bs_2018-02-06 22h57m10s', 'rb') as f:\n",
    "    loss_train, loss_valid, acc_train, acc_valid, lr, h1, h2, batch_size  = pickle.load(f)\n",
    "    \n",
    "\n",
    "fig, (ax1) = plt.subplots(1,figsize=(7,6))\n",
    "ax = [ax1]\n",
    "text = ['$h_1 = $'+str(h1[0])+', $h_2 = $'+str(h2[0])]\n",
    "\n",
    "\n",
    "for i, (ax_,text_) in enumerate(zip(ax,text)): \n",
    "    color = next(ax_._get_lines.prop_cycler)['color']\n",
    "    ax_.plot(acc_train[0,i,i,:],'o-',label=initialization_method[0],color='k')\n",
    "    ax_.plot(acc_valid[0,i,i,:],'o-',label=initialization_method[0],color='r')\n",
    "    \n",
    "    ax_.set_xlabel('epoch',fontsize=14)\n",
    "    legend = ax_.legend(['Train','Valid'],loc='lower right',fontsize=14)\n",
    "    ax_.set_xlim([0,100])\n",
    "\n",
    "    coordinates = [(ax_.get_xlim()[1] - ax_.get_xlim()[0]), (ax_.get_ylim()[1] - ax_.get_ylim()[0])]\n",
    "\n",
    "    ax_.text(0.6*coordinates[0],0.5*coordinates[1]+ax_.get_ylim()[0], 'Batch size = %.0f' %batch_size[0], fontsize=12)\n",
    "    ax_.text(0.6*coordinates[0],0.4*coordinates[1]+ax_.get_ylim()[0], text_, fontsize=12)\n",
    "\n",
    "    ax_.plot([14,14],[94,100],'k--')\n",
    "#     ax_.text(0.4*coordinates[0],0.6*coordinates[1], 'Acc$_t$ = %.3f %%' %acc_train[0,i,i,9], fontsize=12)\n",
    "#     ax_.text(0.4*coordinates[0],0.7*coordinates[1], 'Acc$_v$ = %.3f %%' %acc_valid[0,i,i,9], fontsize=12,color='r')    \n",
    "\n",
    "ax1.set_ylabel('Accuracy',fontsize=14)\n",
    "plt.show()  \n",
    "\n",
    "fig.savefig('Figures/Acc_BS_100_h1_500_h2_400_Glorot.pdf')"
   ]
  },
  {
   "cell_type": "code",
   "execution_count": null,
   "metadata": {
    "collapsed": true
   },
   "outputs": [],
   "source": [
    "print(np.argmax(acc_valid))\n",
    "print(np.argmin(loss_valid))"
   ]
  },
  {
   "cell_type": "code",
   "execution_count": null,
   "metadata": {
    "collapsed": true
   },
   "outputs": [],
   "source": [
    "coordinates"
   ]
  },
  {
   "cell_type": "code",
   "execution_count": null,
   "metadata": {
    "collapsed": true
   },
   "outputs": [],
   "source": []
  },
  {
   "cell_type": "code",
   "execution_count": null,
   "metadata": {
    "collapsed": true
   },
   "outputs": [],
   "source": []
  },
  {
   "cell_type": "code",
   "execution_count": null,
   "metadata": {
    "collapsed": true
   },
   "outputs": [],
   "source": []
  },
  {
   "cell_type": "code",
   "execution_count": null,
   "metadata": {
    "collapsed": true
   },
   "outputs": [],
   "source": []
  },
  {
   "cell_type": "code",
   "execution_count": null,
   "metadata": {
    "collapsed": true
   },
   "outputs": [],
   "source": [
    "# # data \n",
    "\n",
    "# mnist_transforms = torchvision.transforms.Compose([torchvision.transforms.ToTensor()])\n",
    "# mnist_train = torchvision.datasets.MNIST(root='./data', train=True,transform=mnist_transforms, download=True)\n",
    "# mnist_test = torchvision.datasets.MNIST(root='./data', train=False,transform=mnist_transforms, download=True)\n",
    "\n",
    "# train_valid_data = mnist_train.train_data.type(torch.FloatTensor)/255\n",
    "# train_valid_label = mnist_train.train_labels.type(torch.FloatTensor)\n",
    "\n",
    "# # \n",
    "# ind = torch.randperm(60000)\n",
    "# train_valid_data = train_valid_data[ind]\n",
    "# train_valid_label = train_valid_label[ind]\n",
    "\n",
    "# train_data = train_valid_data.type(torch.FloatTensor)[:50000]\n",
    "# train_labels = train_valid_label.type(torch.FloatTensor)[:50000].long()\n",
    "# train_data_ = Variable(train_data.view(-1,784))\n",
    "# train_labels_ = Variable(train_labels.view(-1))\n",
    "# # train_batch = torch.utils.data.DataLoader(data_utils.TensorDataset(train_data,train_labels), batch_size=batch_size, shuffle=True) #, num_workers=2\n",
    "\n",
    "# valid_data = train_valid_data.type(torch.FloatTensor)[50000:]\n",
    "# valid_labels = train_valid_label.type(torch.FloatTensor)[50000:].long()\n",
    "# valid_data_ = Variable(valid_data.view(-1,784))\n",
    "# valid_labels_ = Variable(valid_labels.view(-1))\n",
    "# # valid_batch = torch.utils.data.DataLoader(data_utils.TensorDataset(valid_data,valid_labels), batch_size=batch_size, shuffle=True)\n",
    "\n",
    "# test_data = mnist_test.test_data.type(torch.FloatTensor)/255\n",
    "# test_labels = mnist_test.test_labels.type(torch.FloatTensor).long()\n",
    "# test_data_ = Variable(valid_data.view(-1,784))\n",
    "# test_labels_ = Variable(valid_labels.view(-1))\n",
    "# # test_batch = torch.utils.data.DataLoader(data_utils.TensorDataset(valid_data,valid_labels), batch_size=batch_size, shuffle=False)\n",
    "\n"
   ]
  },
  {
   "cell_type": "code",
   "execution_count": null,
   "metadata": {
    "collapsed": true
   },
   "outputs": [],
   "source": []
  },
  {
   "cell_type": "code",
   "execution_count": 118,
   "metadata": {
    "collapsed": true
   },
   "outputs": [],
   "source": [
    "torch.manual_seed(1000)\n",
    "ind = torch.randperm(int(0.02*50000))\n"
   ]
  },
  {
   "cell_type": "code",
   "execution_count": 119,
   "metadata": {},
   "outputs": [
    {
     "name": "stdout",
     "output_type": "stream",
     "text": [
      "\n",
      " 907\n",
      " 672\n",
      " 929\n",
      " 240\n",
      " 155\n",
      " 379\n",
      " 304\n",
      " 156\n",
      " 357\n",
      " 765\n",
      "[torch.LongTensor of size 10]\n",
      "\n",
      "torch.Size([1000])\n"
     ]
    }
   ],
   "source": [
    "print(ind[:10])\n",
    "print(ind.shape)"
   ]
  },
  {
   "cell_type": "code",
   "execution_count": null,
   "metadata": {
    "collapsed": true
   },
   "outputs": [],
   "source": []
  }
 ],
 "metadata": {
  "kernelspec": {
   "display_name": "Python 3",
   "language": "python",
   "name": "python3"
  },
  "language_info": {
   "codemirror_mode": {
    "name": "ipython",
    "version": 3
   },
   "file_extension": ".py",
   "mimetype": "text/x-python",
   "name": "python",
   "nbconvert_exporter": "python",
   "pygments_lexer": "ipython3",
   "version": "3.6.1"
  }
 },
 "nbformat": 4,
 "nbformat_minor": 2
}
